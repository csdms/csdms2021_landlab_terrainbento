{
 "cells": [
  {
   "cell_type": "markdown",
   "metadata": {},
   "source": [
    "![terrainbento logo](../images/terrainbento_logo.png)\n",
    "\n",
    "# terrainbento model BasicRt steady-state solution"
   ]
  },
  {
   "cell_type": "markdown",
   "metadata": {},
   "source": [
    "This model shows example usage of the BasicRt model from the TerrainBento package.\n",
    "\n",
    "BasicRt modifies Basic by allowing for two lithologies:\n",
    "\n",
    "$\\frac{\\partial \\eta}{\\partial t} = - K(\\eta,\\eta_C) Q^{1/2}S + D\\nabla^2 \\eta$\n",
    "\n",
    "$K(\\eta, \\eta_C ) = w K_1 + (1 - w) K_2$\n",
    "\n",
    "$w = \\frac{1}{1+\\exp \\left( -\\frac{(\\eta -\\eta_C )}{W_c}\\right)}$\n",
    "\n",
    "where $Q$ is the local stream discharge, $S$ is the local slope, $W_c$ is the contact-zone width, $K_1$ and $K_2$ are the erodibilities of the upper and lower lithologies, and $D$ is the regolith transport parameter. $w$ is a weight used to calculate the effective erodibility $K(\\eta, \\eta_C)$ based on the depth to the contact zone and the width of the contact zone.\n",
    "\n",
    "Refer to [Barnhart et al. (2019)](https://www.geosci-model-dev.net/12/1267/2019/) for further explaination. For detailed information about creating a BasicRt model, see [the detailed documentation](https://terrainbento.readthedocs.io/en/latest/source/terrainbento.derived_models.model_basicRt.html).\n",
    "\n",
    "This notebook (a) shows the initialization and running of this model, (b) saves a NetCDF file of the topography, which we will use to make an oblique Paraview image of the landscape, and (c) creates a slope-area plot at steady state."
   ]
  },
  {
   "cell_type": "code",
   "execution_count": 1,
   "metadata": {},
   "outputs": [],
   "source": [
    "# import required modules\n",
    "import os\n",
    "import numpy as np\n",
    "\n",
    "import matplotlib.pyplot as plt\n",
    "import matplotlib\n",
    "matplotlib.rcParams[\"font.size\"] = 20\n",
    "matplotlib.rcParams[\"pdf.fonttype\"] = 42\n",
    "%matplotlib inline\n",
    "\n",
    "from landlab import imshow_grid, RasterModelGrid\n",
    "\n",
    "from landlab.io.netcdf import write_netcdf\n",
    "from landlab.values import random\n",
    "\n",
    "from terrainbento import BasicRt, Clock, NotCoreNodeBaselevelHandler\n",
    "\n",
    "np.random.seed(4897)"
   ]
  },
  {
   "cell_type": "code",
   "execution_count": 2,
   "metadata": {},
   "outputs": [],
   "source": [
    "# in this example we will create a grid, a clock, a boundary handler,\n",
    "# and an output writer. We will then use these to construct the model.\n",
    "\n",
    "grid = RasterModelGrid((25, 40), xy_spacing=40) \n",
    "\n",
    "z = random(grid, \"topographic__elevation\", where=\"CORE_NODE\")\n",
    "\n",
    "contact = grid.add_zeros(\"node\", \"lithology_contact__elevation\")\n",
    "contact[grid.node_y > 500.0] = 10.\n",
    "contact[grid.node_y <= 500.0] = -100000000.\n",
    "\n",
    "clock = Clock(start=0, step=10, stop=1e7)\n",
    "ncnblh = NotCoreNodeBaselevelHandler(grid,\n",
    "                                     modify_core_nodes=True,\n",
    "                                     lowering_rate=-0.001)"
   ]
  },
  {
   "cell_type": "code",
   "execution_count": 3,
   "metadata": {},
   "outputs": [],
   "source": [
    "# the tolerance here is high, so that this can run on binder and for tests. (recommended value = 0.001 or lower).\n",
    "tolerance = 20.0"
   ]
  },
  {
   "cell_type": "code",
   "execution_count": 4,
   "metadata": {},
   "outputs": [],
   "source": [
    "# we can use an output writer to run until the model reaches steady state.\n",
    "class run_to_steady(object):\n",
    "    def __init__(self, model):\n",
    "        self.model = model\n",
    "        self.last_z = self.model.z.copy()\n",
    "        self.tolerance = tolerance\n",
    "\n",
    "    def run_one_step(self):\n",
    "        if model.model_time > 0:\n",
    "            diff = (self.model.z[model.grid.core_nodes] -\n",
    "                    self.last_z[model.grid.core_nodes])\n",
    "            if max(abs(diff)) <= self.tolerance:\n",
    "                self.model.clock.stop = model._model_time\n",
    "                print(\"Model reached steady state in \" +\n",
    "                      str(model._model_time) + \" time units\\n\")\n",
    "            else:\n",
    "                self.last_z = self.model.z.copy()\n",
    "                if model._model_time <= self.model.clock.stop - self.model.output_interval:\n",
    "                    self.model.clock.stop += self.model.output_interval"
   ]
  },
  {
   "cell_type": "code",
   "execution_count": 5,
   "metadata": {},
   "outputs": [
    {
     "name": "stdout",
     "output_type": "stream",
     "text": [
      "Model reached steady state in 10000.0 time units\n",
      "\n"
     ]
    }
   ],
   "source": [
    "# initialize the model by passing the correct arguments and\n",
    "# keyword arguments.\n",
    "\n",
    "model = BasicRt(clock,\n",
    "                grid,\n",
    "                boundary_handlers={\"NotCoreNodeBaselevelHandler\": ncnblh},\n",
    "                output_interval=1e4,\n",
    "                save_first_timestep=True,\n",
    "                output_prefix=\"basicRt.\",\n",
    "                fields=[\"topographic__elevation\"],\n",
    "                water_erodibility_lower=0.001,\n",
    "                water_erodibility_upper=0.01,\n",
    "                m_sp=0.5,\n",
    "                n_sp=1.0,\n",
    "                regolith_transport_parameter=0.1,\n",
    "                contact_zone__width=1.0,\n",
    "                output_writers={\"class\": [run_to_steady]})\n",
    "\n",
    "# to run the model as specified, execute the following line:\n",
    "model.run()"
   ]
  },
  {
   "cell_type": "code",
   "execution_count": 6,
   "metadata": {},
   "outputs": [
    {
     "data": {
      "image/png": "[encoded data removed]",
      "text/plain": [
       "<Figure size 432x270 with 1 Axes>"
      ]
     },
     "metadata": {
      "needs_background": "light"
     },
     "output_type": "display_data"
    }
   ],
   "source": [
    "# MAKE SLOPE-AREA PLOT\n",
    "\n",
    "# plot nodes that are not on the boundary or adjacent to it\n",
    "core_not_boundary = np.array(\n",
    "    model.grid.node_has_boundary_neighbor(model.grid.core_nodes)) == False\n",
    "plotting_nodes = model.grid.core_nodes[core_not_boundary]\n",
    "\n",
    "upper_plotting_nodes = plotting_nodes[\n",
    "    model.grid.node_y[plotting_nodes] > 500.0]\n",
    "\n",
    "lower_plotting_nodes = plotting_nodes[\n",
    "    model.grid.node_y[plotting_nodes] < 500.0]\n",
    "\n",
    "# assign area_array and slope_array for ROCK\n",
    "area_array_upper = model.grid.at_node[\"drainage_area\"][upper_plotting_nodes]\n",
    "slope_array_upper = model.grid.at_node[\"topographic__steepest_slope\"][\n",
    "    upper_plotting_nodes]\n",
    "# assign area_array and slope_array for TILL\n",
    "area_array_lower = model.grid.at_node[\"drainage_area\"][lower_plotting_nodes]\n",
    "slope_array_lower = model.grid.at_node[\"topographic__steepest_slope\"][\n",
    "    lower_plotting_nodes]\n",
    "\n",
    "# instantiate figure and plot\n",
    "fig = plt.figure(figsize=(6, 3.75))\n",
    "slope_area = plt.subplot()\n",
    "\n",
    "#plot the data for ROCK\n",
    "slope_area.scatter(area_array_lower,\n",
    "                   slope_array_lower,\n",
    "                   marker=\"s\",\n",
    "                   edgecolor=\"0\",\n",
    "                   color=\"1\",\n",
    "                   label=\"Model BasicRt, Lower Layer\")\n",
    "\n",
    "#plot the data for TILL\n",
    "slope_area.scatter(area_array_upper,\n",
    "                   slope_array_upper,\n",
    "                   color=\"k\",\n",
    "                   label=\"Model BasicRt, Upper Layer\")\n",
    "\n",
    "#make axes log and set limits\n",
    "slope_area.set_xscale(\"log\")\n",
    "slope_area.set_yscale(\"log\")\n",
    "\n",
    "slope_area.set_xlim(9 * 10**1, 3 * 10**5)\n",
    "slope_area.set_ylim(1e-5, 1e-1)\n",
    "\n",
    "#set x and y labels\n",
    "slope_area.set_xlabel(r\"Drainage area [m$^2$]\")\n",
    "slope_area.set_ylabel(\"Channel slope [-]\")\n",
    "slope_area.legend(scatterpoints=1, prop={\"size\": 12})\n",
    "slope_area.tick_params(axis=\"x\", which=\"major\", pad=7)\n",
    "\n",
    "plt.show()"
   ]
  },
  {
   "cell_type": "code",
   "execution_count": 7,
   "metadata": {},
   "outputs": [],
   "source": [
    "# # Save stack of all netcdfs for Paraview to use.\n",
    "# model.save_to_xarray_dataset(filename=\"basicRt.nc\",\n",
    "#                              time_unit=\"years\",\n",
    "#                              reference_time=\"model start\",\n",
    "#                              space_unit=\"meters\")\n",
    "\n",
    "# remove temporary netcdfs\n",
    "model.remove_output_netcdfs()"
   ]
  },
  {
   "cell_type": "code",
   "execution_count": 8,
   "metadata": {},
   "outputs": [
    {
     "name": "stderr",
     "output_type": "stream",
     "text": [
      "/Users/beca4397/opt/anaconda3/envs/LLTB_clinic/lib/python3.9/site-packages/landlab/plot/imshow.py:267: MatplotlibDeprecationWarning: You are modifying the state of a globally registered colormap. This has been deprecated since 3.3 and in 3.6, you will not be able to modify a registered colormap in-place. To remove this warning, you can make a copy of the colormap first. cmap = mpl.cm.get_cmap(\"pink\").copy()\n",
      "  cmap.set_bad(color=color_for_closed)\n",
      "/Users/beca4397/opt/anaconda3/envs/LLTB_clinic/lib/python3.9/site-packages/landlab/plot/imshow.py:307: MatplotlibDeprecationWarning: The 'norm' parameter to Colorbar has no effect because it is overridden by the mappable; it is deprecated since 3.3 and will be removed two minor releases later.\n",
      "  cb = plt.colorbar(norm=norm, shrink=shrink)\n"
     ]
    },
    {
     "data": {
      "image/png": "[encoded data removed]",
      "text/plain": [
       "<Figure size 432x288 with 2 Axes>"
      ]
     },
     "metadata": {
      "needs_background": "light"
     },
     "output_type": "display_data"
    }
   ],
   "source": [
    "# make a plot of the final steady state topography\n",
    "imshow_grid(model.grid, \"topographic__elevation\")"
   ]
  },
  {
   "cell_type": "markdown",
   "metadata": {},
   "source": [
    "## Challenge\n",
    "Create a LEM with a hard bedrock layer underlying a soft cover in the eastern side of the domain or (extra challenge) as a square in the middle of the domain."
   ]
  },
  {
   "cell_type": "code",
   "execution_count": null,
   "metadata": {},
   "outputs": [],
   "source": []
  },
  {
   "cell_type": "markdown",
   "metadata": {},
   "source": [
    "## Next Steps\n",
    "\n",
    "- We recommend you review the [terrainbento manuscript](https://www.geosci-model-dev.net/12/1267/2019/).\n",
    "\n",
    "- There are three additional introductory tutorials: \n",
    "\n",
    "    1) [Introduction terrainbento](../example_usage/Introduction_to_terrainbento.ipynb) \n",
    "    \n",
    "    2) [Introduction to boundary conditions in terrainbento](../example_usage/introduction_to_boundary_conditions.ipynb)\n",
    "    \n",
    "    3) [Introduction to output writers in terrainbento](../example_usage/introduction_to_output_writers.ipynb). \n",
    "    \n",
    "    \n",
    "- Five examples of steady state behavior in coupled process models can be found in the following notebooks:\n",
    "\n",
    "    1) [Basic](model_basic_steady_solution.ipynb) the simplest landscape evolution model in the terrainbento package.\n",
    "\n",
    "    2) [BasicVm](model_basic_var_m_steady_solution.ipynb) which permits the drainage area exponent to change\n",
    "\n",
    "    3) [BasicCh](model_basicCh_steady_solution.ipynb) which uses a non-linear hillslope erosion and transport law\n",
    "\n",
    "    4) [BasicVs](model_basicVs_steady_solution.ipynb) which uses variable source area hydrology\n",
    "\n",
    "    5) **This Notebook**: [BasisRt](model_basicRt_steady_solution.ipynb) which allows for two lithologies with different K values"
   ]
  },
  {
   "cell_type": "code",
   "execution_count": null,
   "metadata": {},
   "outputs": [],
   "source": []
  }
 ],
 "metadata": {
  "kernelspec": {
   "display_name": "Python 3",
   "language": "python",
   "name": "python3"
  },
  "language_info": {
   "codemirror_mode": {
    "name": "ipython",
    "version": 3
   },
   "file_extension": ".py",
   "mimetype": "text/x-python",
   "name": "python",
   "nbconvert_exporter": "python",
   "pygments_lexer": "ipython3",
   "version": "3.9.4"
  }
 },
 "nbformat": 4,
 "nbformat_minor": 2
}
